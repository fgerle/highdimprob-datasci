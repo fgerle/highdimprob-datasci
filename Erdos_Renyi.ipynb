{
 "cells": [
  {
   "cell_type": "markdown",
   "id": "undefined-thirty",
   "metadata": {},
   "source": [
    "# Erdos Renyi random graph with Python - some examples"
   ]
  },
  {
   "cell_type": "markdown",
   "id": "unavailable-tobacco",
   "metadata": {},
   "source": [
    "### Import needed Packages"
   ]
  },
  {
   "cell_type": "code",
   "execution_count": 23,
   "id": "dental-theta",
   "metadata": {},
   "outputs": [],
   "source": [
    "import numpy as np\n",
    "import math\n",
    "import networkx as net\n",
    "import matplotlib.pyplot as plt\n",
    "from pyvis.network import Network as netviz"
   ]
  },
  {
   "cell_type": "markdown",
   "id": "administrative-creator",
   "metadata": {},
   "source": [
    "### Set parameters for the random Graph"
   ]
  },
  {
   "cell_type": "code",
   "execution_count": 24,
   "id": "valuable-photograph",
   "metadata": {},
   "outputs": [],
   "source": [
    "N = 100\n",
    "p = 0.05"
   ]
  },
  {
   "cell_type": "markdown",
   "id": "tutorial-twenty",
   "metadata": {},
   "source": [
    "### Generate random Graph as `G`"
   ]
  },
  {
   "cell_type": "code",
   "execution_count": 25,
   "id": "lasting-christmas",
   "metadata": {},
   "outputs": [],
   "source": [
    "G = net.gnp_random_graph(N,p)"
   ]
  },
  {
   "cell_type": "markdown",
   "id": "apparent-sheffield",
   "metadata": {},
   "source": [
    "### Check if the Graph is connected and if not choose the largest connected component as `G0`"
   ]
  },
  {
   "cell_type": "code",
   "execution_count": 26,
   "id": "casual-aging",
   "metadata": {},
   "outputs": [
    {
     "name": "stdout",
     "output_type": "stream",
     "text": [
      "the graph is not connected\n",
      "number of vertices in G0 is 98\n"
     ]
    }
   ],
   "source": [
    "conn = net.is_connected(G)\n",
    "\n",
    "if conn:\n",
    "    print(\"the graph is connected\")\n",
    "    G0 = G\n",
    "else:\n",
    "    GCC = sorted(net.connected_components(G), key=len, reverse=True)\n",
    "    G0 = G.subgraph(GCC[0])\n",
    "    print(\"the graph is not connected\")\n",
    "\n",
    "n = len(G0)\n",
    "print(\"number of vertices in G0 is %d\" %n)"
   ]
  },
  {
   "cell_type": "markdown",
   "id": "declared-context",
   "metadata": {},
   "source": [
    "### collect the degrees of `G0` in a list"
   ]
  },
  {
   "cell_type": "code",
   "execution_count": 27,
   "id": "related-albany",
   "metadata": {},
   "outputs": [
    {
     "name": "stdout",
     "output_type": "stream",
     "text": [
      "{0: 3, 1: 3, 2: 5, 3: 4, 4: 3, 5: 6, 6: 11, 7: 4, 8: 6, 9: 5, 10: 5, 11: 3, 12: 4, 13: 8, 14: 7, 15: 3, 16: 5, 17: 5, 18: 4, 19: 11, 20: 5, 21: 5, 22: 4, 23: 3, 24: 5, 25: 3, 26: 7, 27: 1, 28: 5, 29: 8, 30: 4, 31: 5, 32: 1, 33: 2, 34: 2, 35: 3, 36: 6, 37: 7, 38: 6, 39: 5, 40: 7, 41: 3, 42: 3, 43: 3, 44: 7, 46: 8, 47: 5, 48: 6, 49: 4, 50: 5, 51: 4, 52: 7, 53: 2, 54: 6, 55: 7, 56: 4, 57: 3, 58: 7, 59: 5, 60: 4, 61: 7, 62: 5, 63: 1, 64: 3, 65: 6, 66: 1, 67: 8, 68: 5, 69: 4, 70: 2, 72: 2, 73: 2, 74: 3, 75: 4, 76: 7, 77: 9, 78: 7, 79: 7, 80: 3, 81: 3, 82: 5, 83: 6, 84: 7, 85: 2, 86: 2, 87: 6, 88: 6, 89: 6, 90: 4, 91: 5, 92: 8, 93: 4, 94: 7, 95: 4, 96: 4, 97: 2, 98: 3, 99: 4}\n"
     ]
    }
   ],
   "source": [
    "deg = {}   # initialize an empty dictionary\n",
    "for v in G0.nodes():\n",
    "    deg[v] = net.degree(G0,v)\n",
    "print(deg)\n",
    "deg_val = deg.values()"
   ]
  },
  {
   "cell_type": "markdown",
   "id": "automatic-chamber",
   "metadata": {},
   "source": [
    "### Add a property `size` to each vertex depending on the degree of the vertex"
   ]
  },
  {
   "cell_type": "code",
   "execution_count": 28,
   "id": "cleared-rover",
   "metadata": {},
   "outputs": [],
   "source": [
    "for v in G0.nodes():\n",
    "    G0.nodes[v][\"size\"] = math.sqrt(deg[v])*10"
   ]
  },
  {
   "cell_type": "markdown",
   "id": "handy-hudson",
   "metadata": {},
   "source": [
    "### Plot a Histogram of the degrees in `G0`"
   ]
  },
  {
   "cell_type": "code",
   "execution_count": 29,
   "id": "consolidated-myrtle",
   "metadata": {},
   "outputs": [
    {
     "data": {
      "image/png": "[encoded data removed]",
      "text/plain": [
       "<Figure size 432x288 with 1 Axes>"
      ]
     },
     "metadata": {
      "needs_background": "light"
     },
     "output_type": "display_data"
    }
   ],
   "source": [
    "num, bins, obj = plt.hist(deg_val, bins=max(deg_val)-min(deg_val), align=\"left\", rwidth=0.85)"
   ]
  },
  {
   "cell_type": "markdown",
   "id": "naval-prevention",
   "metadata": {},
   "source": [
    "### Visualize graph"
   ]
  },
  {
   "cell_type": "code",
   "execution_count": 30,
   "id": "qualified-aerospace",
   "metadata": {},
   "outputs": [
    {
     "data": {
      "text/html": [
       "\n",
       "        <iframe\n",
       "            width=\"800\"\n",
       "            height=\"800\"\n",
       "            src=\"net.html\"\n",
       "            frameborder=\"0\"\n",
       "            allowfullscreen\n",
       "        ></iframe>\n",
       "        "
      ],
      "text/plain": [
       "<IPython.lib.display.IFrame at 0x7fe7f35c44c0>"
      ]
     },
     "execution_count": 30,
     "metadata": {},
     "output_type": "execute_result"
    }
   ],
   "source": [
    "viz = netviz(height=800, width=800, notebook=True)\n",
    "viz.barnes_hut()\n",
    "viz.from_nx(G0)\n",
    "viz.show(\"net.html\")"
   ]
  },
  {
   "cell_type": "code",
   "execution_count": null,
   "id": "differential-poultry",
   "metadata": {},
   "outputs": [],
   "source": []
  },
  {
   "cell_type": "code",
   "execution_count": null,
   "id": "greater-delight",
   "metadata": {},
   "outputs": [],
   "source": []
  },
  {
   "cell_type": "code",
   "execution_count": null,
   "id": "thousand-quest",
   "metadata": {},
   "outputs": [],
   "source": []
  }
 ],
 "metadata": {
  "kernelspec": {
   "display_name": "Python 3",
   "language": "python",
   "name": "python3"
  },
  "language_info": {
   "codemirror_mode": {
    "name": "ipython",
    "version": 3
   },
   "file_extension": ".py",
   "mimetype": "text/x-python",
   "name": "python",
   "nbconvert_exporter": "python",
   "pygments_lexer": "ipython3",
   "version": "3.9.3"
  }
 },
 "nbformat": 4,
 "nbformat_minor": 5
}
