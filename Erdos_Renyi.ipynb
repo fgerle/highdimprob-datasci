{
 "cells": [
  {
   "cell_type": "markdown",
   "id": "speaking-frequency",
   "metadata": {},
   "source": [
    "# Erdos Renyi random graph with Python - some examples"
   ]
  },
  {
   "cell_type": "markdown",
   "id": "swedish-banner",
   "metadata": {},
   "source": [
    "### Import needed Packages"
   ]
  },
  {
   "cell_type": "code",
   "execution_count": 1,
   "id": "overhead-citizen",
   "metadata": {},
   "outputs": [],
   "source": [
    "import numpy as np\n",
    "import math\n",
    "import networkx as net\n",
    "import matplotlib.pyplot as plt\n",
    "from pyvis.network import Network as netviz"
   ]
  },
  {
   "cell_type": "markdown",
   "id": "removable-peripheral",
   "metadata": {},
   "source": [
    "### Set parameters for the random Graph"
   ]
  },
  {
   "cell_type": "code",
   "execution_count": 2,
   "id": "joint-triumph",
   "metadata": {},
   "outputs": [],
   "source": [
    "N = 100\n",
    "p = 0.05"
   ]
  },
  {
   "cell_type": "markdown",
   "id": "thrown-board",
   "metadata": {},
   "source": [
    "### Generate random Graph as `G`"
   ]
  },
  {
   "cell_type": "code",
   "execution_count": 3,
   "id": "recovered-worcester",
   "metadata": {},
   "outputs": [],
   "source": [
    "G = net.gnp_random_graph(N,p)"
   ]
  },
  {
   "cell_type": "markdown",
   "id": "smoking-barbados",
   "metadata": {},
   "source": [
    "### Check if the Graph is connected and if not choose the largest connected component as `G0`"
   ]
  },
  {
   "cell_type": "code",
   "execution_count": 4,
   "id": "portable-panic",
   "metadata": {},
   "outputs": [
    {
     "name": "stdout",
     "output_type": "stream",
     "text": [
      "the graph is connected\n",
      "number of vertices in G0 is 100\n"
     ]
    }
   ],
   "source": [
    "conn = net.is_connected(G)\n",
    "\n",
    "if conn:\n",
    "    print(\"the graph is connected\")\n",
    "    G0 = G\n",
    "else:\n",
    "    GCC = sorted(net.connected_components(G), key=len, reverse=True)\n",
    "    G0 = G.subgraph(GCC[0])\n",
    "    print(\"the graph is not connected\")\n",
    "\n",
    "n = len(G0)\n",
    "print(\"number of vertices in G0 is %d\" %n)"
   ]
  },
  {
   "cell_type": "markdown",
   "id": "electoral-recognition",
   "metadata": {},
   "source": [
    "### collect the degrees of `G0` in a list"
   ]
  },
  {
   "cell_type": "code",
   "execution_count": 5,
   "id": "narrow-boundary",
   "metadata": {},
   "outputs": [
    {
     "name": "stdout",
     "output_type": "stream",
     "text": [
      "[8, 7, 6, 7, 3, 6, 4, 11, 8, 3, 7, 4, 2, 9, 4, 7, 7, 3, 6, 7, 7, 5, 9, 2, 6, 6, 5, 5, 4, 2, 5, 3, 5, 4, 9, 7, 5, 5, 7, 9, 6, 8, 5, 6, 6, 4, 8, 5, 4, 7, 5, 8, 5, 4, 4, 6, 6, 5, 5, 3, 6, 5, 3, 5, 10, 3, 6, 6, 5, 7, 4, 7, 6, 9, 5, 3, 3, 2, 5, 8, 4, 2, 9, 3, 4, 6, 5, 6, 4, 1, 5, 7, 1, 4, 9, 9, 7, 9, 5, 5]\n"
     ]
    }
   ],
   "source": [
    "deg = []   # initialize an empty list\n",
    "for v in G0.nodes():\n",
    "    deg.append(net.degree(G0,v))\n",
    "print(deg)"
   ]
  },
  {
   "cell_type": "markdown",
   "id": "technological-rings",
   "metadata": {},
   "source": [
    "### Add a property `size` to each vertex depending on the degree of the vertex"
   ]
  },
  {
   "cell_type": "code",
   "execution_count": 6,
   "id": "endless-passenger",
   "metadata": {},
   "outputs": [],
   "source": [
    "for v in G0.nodes():\n",
    "    G0.nodes[v][\"size\"] = math.sqrt(deg[v])*10"
   ]
  },
  {
   "cell_type": "markdown",
   "id": "quarterly-optimum",
   "metadata": {},
   "source": [
    "### Plot a Histogram of the degrees in `G0`"
   ]
  },
  {
   "cell_type": "code",
   "execution_count": 7,
   "id": "postal-routine",
   "metadata": {},
   "outputs": [
    {
     "data": {
      "image/png": "[encoded data removed]",
      "text/plain": [
       "<Figure size 432x288 with 1 Axes>"
      ]
     },
     "metadata": {
      "needs_background": "light"
     },
     "output_type": "display_data"
    }
   ],
   "source": [
    "num, bins, obj = plt.hist(deg, bins=max(deg)-min(deg), align=\"left\", rwidth=0.85)"
   ]
  },
  {
   "cell_type": "markdown",
   "id": "liberal-geometry",
   "metadata": {},
   "source": [
    "### Visualize graph"
   ]
  },
  {
   "cell_type": "code",
   "execution_count": 8,
   "id": "ancient-prompt",
   "metadata": {},
   "outputs": [
    {
     "data": {
      "text/html": [
       "\n",
       "        <iframe\n",
       "            width=\"800\"\n",
       "            height=\"800\"\n",
       "            src=\"net.html\"\n",
       "            frameborder=\"0\"\n",
       "            allowfullscreen\n",
       "        ></iframe>\n",
       "        "
      ],
      "text/plain": [
       "<IPython.lib.display.IFrame at 0x7fedcdbabf40>"
      ]
     },
     "execution_count": 8,
     "metadata": {},
     "output_type": "execute_result"
    }
   ],
   "source": [
    "viz = netviz(height=800, width=800, notebook=True)\n",
    "viz.barnes_hut()\n",
    "viz.from_nx(G0)\n",
    "viz.show(\"net.html\")"
   ]
  },
  {
   "cell_type": "code",
   "execution_count": null,
   "id": "antique-customer",
   "metadata": {},
   "outputs": [],
   "source": []
  }
 ],
 "metadata": {
  "kernelspec": {
   "display_name": "Python 3",
   "language": "python",
   "name": "python3"
  },
  "language_info": {
   "codemirror_mode": {
    "name": "ipython",
    "version": 3
   },
   "file_extension": ".py",
   "mimetype": "text/x-python",
   "name": "python",
   "nbconvert_exporter": "python",
   "pygments_lexer": "ipython3",
   "version": "3.9.2"
  }
 },
 "nbformat": 4,
 "nbformat_minor": 5
}
