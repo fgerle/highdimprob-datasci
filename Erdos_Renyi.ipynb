{
 "cells": [
  {
   "cell_type": "markdown",
   "id": "settled-letter",
   "metadata": {},
   "source": [
    "# Erdos Renyi random graph with Python - some examples"
   ]
  },
  {
   "cell_type": "markdown",
   "id": "hairy-candy",
   "metadata": {},
   "source": [
    "### Import needed Packages"
   ]
  },
  {
   "cell_type": "code",
   "execution_count": 2,
   "id": "pharmaceutical-banking",
   "metadata": {},
   "outputs": [],
   "source": [
    "import numpy as np\n",
    "import math\n",
    "import networkx as net\n",
    "import matplotlib.pyplot as plt\n",
    "from pyvis.network import Network as netviz"
   ]
  },
  {
   "cell_type": "markdown",
   "id": "laden-waste",
   "metadata": {},
   "source": [
    "### Set parameters for the random Graph"
   ]
  },
  {
   "cell_type": "code",
   "execution_count": 3,
   "id": "careful-munich",
   "metadata": {},
   "outputs": [],
   "source": [
    "N = 100\n",
    "p = 0.05"
   ]
  },
  {
   "cell_type": "markdown",
   "id": "careful-memorabilia",
   "metadata": {},
   "source": [
    "### Generate random Graph as `G`"
   ]
  },
  {
   "cell_type": "code",
   "execution_count": 4,
   "id": "fourth-collector",
   "metadata": {},
   "outputs": [],
   "source": [
    "G = net.gnp_random_graph(N,p)"
   ]
  },
  {
   "cell_type": "markdown",
   "id": "occupied-subsection",
   "metadata": {},
   "source": [
    "### Check if the Graph is connected and if not choose the largest connected component as `G0`"
   ]
  },
  {
   "cell_type": "code",
   "execution_count": 5,
   "id": "eight-system",
   "metadata": {},
   "outputs": [
    {
     "name": "stdout",
     "output_type": "stream",
     "text": [
      "the graph is not connected\n",
      "number of vertices in G0 is 99\n"
     ]
    }
   ],
   "source": [
    "conn = net.is_connected(G)\n",
    "\n",
    "if conn:\n",
    "    print(\"the graph is connected\")\n",
    "    G0 = G\n",
    "else:\n",
    "    GCC = sorted(net.connected_components(G), key=len, reverse=True)\n",
    "    G0 = G.subgraph(GCC[0])\n",
    "    print(\"the graph is not connected\")\n",
    "\n",
    "n = len(G0)\n",
    "print(\"number of vertices in G0 is %d\" %n)"
   ]
  },
  {
   "cell_type": "markdown",
   "id": "negative-street",
   "metadata": {},
   "source": [
    "### collect the degrees of `G0` in a list"
   ]
  },
  {
   "cell_type": "code",
   "execution_count": 6,
   "id": "economic-clear",
   "metadata": {},
   "outputs": [
    {
     "name": "stdout",
     "output_type": "stream",
     "text": [
      "{0: 6, 1: 3, 2: 6, 3: 8, 4: 4, 5: 6, 6: 7, 7: 3, 8: 4, 9: 1, 10: 10, 12: 6, 13: 6, 14: 6, 15: 2, 16: 4, 17: 3, 18: 8, 19: 7, 20: 4, 21: 1, 22: 4, 23: 4, 24: 4, 25: 4, 26: 6, 27: 6, 28: 9, 29: 7, 30: 5, 31: 8, 32: 4, 33: 4, 34: 3, 35: 6, 36: 3, 37: 8, 38: 4, 39: 7, 40: 8, 41: 4, 42: 4, 43: 5, 44: 3, 45: 8, 46: 7, 47: 3, 48: 2, 49: 7, 50: 5, 51: 7, 52: 2, 53: 8, 54: 2, 55: 3, 56: 3, 57: 6, 58: 5, 59: 2, 60: 2, 61: 4, 62: 7, 63: 2, 64: 5, 65: 6, 66: 8, 67: 4, 68: 2, 69: 3, 70: 7, 71: 1, 72: 9, 73: 4, 74: 5, 75: 5, 76: 4, 77: 1, 78: 6, 79: 3, 80: 3, 81: 10, 82: 2, 83: 7, 84: 4, 85: 6, 86: 5, 87: 5, 88: 8, 89: 4, 90: 4, 91: 5, 92: 4, 93: 4, 94: 7, 95: 2, 96: 3, 97: 2, 98: 7, 99: 5}\n"
     ]
    }
   ],
   "source": [
    "deg = {}   # initialize an empty dictionary\n",
    "for v in G0.nodes():\n",
    "    deg[v] = net.degree(G0,v)\n",
    "print(deg)\n",
    "deg_val = deg.values()"
   ]
  },
  {
   "cell_type": "markdown",
   "id": "italian-republic",
   "metadata": {},
   "source": [
    "### Add a property `size` to each vertex depending on the degree of the vertex"
   ]
  },
  {
   "cell_type": "code",
   "execution_count": 7,
   "id": "collaborative-minneapolis",
   "metadata": {},
   "outputs": [],
   "source": [
    "for v in G0.nodes():\n",
    "    G0.nodes[v][\"size\"] = math.sqrt(deg[v])*10"
   ]
  },
  {
   "cell_type": "markdown",
   "id": "incorporated-joining",
   "metadata": {},
   "source": [
    "### Plot a Histogram of the degrees in `G0`"
   ]
  },
  {
   "cell_type": "code",
   "execution_count": 8,
   "id": "dense-glucose",
   "metadata": {},
   "outputs": [
    {
     "data": {
      "image/png": "[encoded data removed]",
      "text/plain": [
       "<Figure size 432x288 with 1 Axes>"
      ]
     },
     "metadata": {
      "needs_background": "light"
     },
     "output_type": "display_data"
    }
   ],
   "source": [
    "num, bins, obj = plt.hist(deg_val, bins=max(deg_val)-min(deg_val), align=\"left\", rwidth=0.85)"
   ]
  },
  {
   "cell_type": "markdown",
   "id": "ecological-payment",
   "metadata": {},
   "source": [
    "### Visualize graph"
   ]
  },
  {
   "cell_type": "code",
   "execution_count": 9,
   "id": "shaped-jurisdiction",
   "metadata": {},
   "outputs": [
    {
     "data": {
      "text/html": [
       "\n",
       "        <iframe\n",
       "            width=\"800\"\n",
       "            height=\"800\"\n",
       "            src=\"net.html\"\n",
       "            frameborder=\"0\"\n",
       "            allowfullscreen\n",
       "        ></iframe>\n",
       "        "
      ],
      "text/plain": [
       "<IPython.lib.display.IFrame at 0x7fe7f373dac0>"
      ]
     },
     "execution_count": 9,
     "metadata": {},
     "output_type": "execute_result"
    }
   ],
   "source": [
    "viz = netviz(height=800, width=800, notebook=True)\n",
    "viz.barnes_hut()\n",
    "viz.from_nx(G0)\n",
    "viz.show(\"net.html\")"
   ]
  },
  {
   "cell_type": "code",
   "execution_count": null,
   "id": "polyphonic-banner",
   "metadata": {},
   "outputs": [],
   "source": []
  }
 ],
 "metadata": {
  "kernelspec": {
   "display_name": "Python 3",
   "language": "python",
   "name": "python3"
  },
  "language_info": {
   "codemirror_mode": {
    "name": "ipython",
    "version": 3
   },
   "file_extension": ".py",
   "mimetype": "text/x-python",
   "name": "python",
   "nbconvert_exporter": "python",
   "pygments_lexer": "ipython3",
   "version": "3.9.3"
  }
 },
 "nbformat": 4,
 "nbformat_minor": 5
}
