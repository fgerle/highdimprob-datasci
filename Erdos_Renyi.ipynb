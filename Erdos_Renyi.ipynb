{
 "cells": [
  {
   "cell_type": "markdown",
   "id": "confident-binary",
   "metadata": {},
   "source": [
    "# Erdos Renyi random graph with Python - some examples"
   ]
  },
  {
   "cell_type": "markdown",
   "id": "spanish-breath",
   "metadata": {},
   "source": [
    "### Import needed Packages"
   ]
  },
  {
   "cell_type": "code",
   "execution_count": 1,
   "id": "instant-diagnosis",
   "metadata": {},
   "outputs": [],
   "source": [
    "import numpy as np\n",
    "import math\n",
    "import networkx as net\n",
    "import matplotlib.pyplot as plt\n",
    "from pyvis.network import Network as netviz"
   ]
  },
  {
   "cell_type": "markdown",
   "id": "civic-melissa",
   "metadata": {},
   "source": [
    "### Set parameters for the random Graph"
   ]
  },
  {
   "cell_type": "code",
   "execution_count": 2,
   "id": "later-alcohol",
   "metadata": {},
   "outputs": [],
   "source": [
    "N = 100\n",
    "p = 0.05"
   ]
  },
  {
   "cell_type": "markdown",
   "id": "exact-squad",
   "metadata": {},
   "source": [
    "### Generate random Graph as `G`"
   ]
  },
  {
   "cell_type": "code",
   "execution_count": 3,
   "id": "flush-privacy",
   "metadata": {},
   "outputs": [],
   "source": [
    "G = net.gnp_random_graph(N,p)"
   ]
  },
  {
   "cell_type": "markdown",
   "id": "connected-macintosh",
   "metadata": {},
   "source": [
    "### Check if the Graph is connected and if not choose the largest connected component as `G0`"
   ]
  },
  {
   "cell_type": "code",
   "execution_count": 4,
   "id": "permanent-palace",
   "metadata": {},
   "outputs": [
    {
     "name": "stdout",
     "output_type": "stream",
     "text": [
      "the graph is connected\n",
      "number of vertices in G0 is 100\n"
     ]
    }
   ],
   "source": [
    "conn = net.is_connected(G)\n",
    "\n",
    "if conn:\n",
    "    print(\"the graph is connected\")\n",
    "    G0 = G\n",
    "else:\n",
    "    GCC = sorted(net.connected_components(G), key=len, reverse=True)\n",
    "    G0 = G.subgraph(GCC[0])\n",
    "    print(\"the graph is not connected\")\n",
    "\n",
    "n = len(G0)\n",
    "print(\"number of vertices in G0 is %d\" %n)"
   ]
  },
  {
   "cell_type": "markdown",
   "id": "intended-chancellor",
   "metadata": {},
   "source": [
    "### collect the degrees of `G0` in a list"
   ]
  },
  {
   "cell_type": "code",
   "execution_count": 5,
   "id": "suburban-variance",
   "metadata": {},
   "outputs": [
    {
     "name": "stdout",
     "output_type": "stream",
     "text": [
      "{0: 2, 1: 4, 2: 6, 3: 8, 4: 2, 5: 4, 6: 5, 7: 6, 8: 8, 9: 3, 10: 4, 11: 9, 12: 6, 13: 6, 14: 3, 15: 7, 16: 5, 17: 2, 18: 4, 19: 1, 20: 7, 21: 7, 22: 5, 23: 6, 24: 4, 25: 1, 26: 5, 27: 8, 28: 4, 29: 7, 30: 5, 31: 6, 32: 5, 33: 5, 34: 4, 35: 8, 36: 3, 37: 13, 38: 5, 39: 11, 40: 6, 41: 2, 42: 5, 43: 7, 44: 4, 45: 3, 46: 5, 47: 5, 48: 3, 49: 9, 50: 3, 51: 5, 52: 6, 53: 9, 54: 5, 55: 5, 56: 4, 57: 6, 58: 8, 59: 9, 60: 2, 61: 5, 62: 3, 63: 3, 64: 5, 65: 5, 66: 3, 67: 3, 68: 6, 69: 3, 70: 4, 71: 3, 72: 8, 73: 5, 74: 4, 75: 3, 76: 3, 77: 6, 78: 4, 79: 8, 80: 3, 81: 5, 82: 4, 83: 5, 84: 3, 85: 7, 86: 11, 87: 12, 88: 3, 89: 6, 90: 4, 91: 6, 92: 2, 93: 2, 94: 2, 95: 7, 96: 3, 97: 3, 98: 5, 99: 6}\n"
     ]
    }
   ],
   "source": [
    "deg = {}   # initialize an empty dictionary\n",
    "for v in G0.nodes():\n",
    "    deg[v] = net.degree(G0,v)\n",
    "print(deg)\n",
    "deg_val = deg.values()"
   ]
  },
  {
   "cell_type": "markdown",
   "id": "black-music",
   "metadata": {},
   "source": [
    "### Add a property `size` to each vertex depending on the degree of the vertex"
   ]
  },
  {
   "cell_type": "code",
   "execution_count": 6,
   "id": "nutritional-artwork",
   "metadata": {},
   "outputs": [],
   "source": [
    "for v in G0.nodes():\n",
    "    G0.nodes[v][\"size\"] = math.sqrt(deg[v])*10"
   ]
  },
  {
   "cell_type": "markdown",
   "id": "colored-component",
   "metadata": {},
   "source": [
    "### Plot a Histogram of the degrees in `G0`"
   ]
  },
  {
   "cell_type": "code",
   "execution_count": 7,
   "id": "collect-departure",
   "metadata": {},
   "outputs": [
    {
     "data": {
      "image/png": "[encoded data removed]",
      "text/plain": [
       "<Figure size 432x288 with 1 Axes>"
      ]
     },
     "metadata": {
      "needs_background": "light"
     },
     "output_type": "display_data"
    }
   ],
   "source": [
    "num, bins, obj = plt.hist(deg_val, bins=max(deg_val)-min(deg_val), align=\"left\", rwidth=0.85)"
   ]
  },
  {
   "cell_type": "markdown",
   "id": "educated-gauge",
   "metadata": {},
   "source": [
    "### Visualize graph"
   ]
  },
  {
   "cell_type": "code",
   "execution_count": 8,
   "id": "super-mason",
   "metadata": {},
   "outputs": [
    {
     "data": {
      "text/html": [
       "\n",
       "        <iframe\n",
       "            width=\"800\"\n",
       "            height=\"800\"\n",
       "            src=\"net.html\"\n",
       "            frameborder=\"0\"\n",
       "            allowfullscreen\n",
       "        ></iframe>\n",
       "        "
      ],
      "text/plain": [
       "<IPython.lib.display.IFrame at 0x7fcca34bec70>"
      ]
     },
     "execution_count": 8,
     "metadata": {},
     "output_type": "execute_result"
    }
   ],
   "source": [
    "viz = netviz(height=800, width=800, notebook=True)\n",
    "viz.barnes_hut()\n",
    "viz.from_nx(G0)\n",
    "viz.show(\"net.html\")"
   ]
  },
  {
   "cell_type": "markdown",
   "id": "royal-father",
   "metadata": {},
   "source": [
    "## Define a new function to run repeated simulations"
   ]
  },
  {
   "cell_type": "code",
   "execution_count": 6,
   "id": "controlling-perth",
   "metadata": {},
   "outputs": [],
   "source": [
    "def sim_gnp(n,p,N):\n",
    "    max_deg = []\n",
    "    min_deg = []\n",
    "    for sim in range(N):\n",
    "        G = net.gnp_random_graph(n,p)\n",
    "        deg = {}   # initialize an empty dictionary\n",
    "        for v in G.nodes():\n",
    "            deg[v] = net.degree(G,v)\n",
    "        deg_val = deg.values()\n",
    "        max_deg.append(max(deg_val))\n",
    "        min_deg.append(min(deg_val))\n",
    "    return(min_deg, max_deg)\n",
    "                     "
   ]
  },
  {
   "cell_type": "code",
   "execution_count": 7,
   "id": "unauthorized-burden",
   "metadata": {},
   "outputs": [
    {
     "name": "stdout",
     "output_type": "stream",
     "text": [
      "[2, 2, 1, 1, 1, 2, 1, 2, 1, 2, 2, 1, 2, 1, 2, 1, 2, 3, 3, 0, 2, 2, 2, 2, 2, 1, 2, 1, 1, 1, 2, 2, 2, 1, 2, 2, 1, 1, 1, 1, 3, 1, 2, 3, 3, 2, 2, 3, 2, 1, 3, 2, 2, 2, 1, 2, 1, 2, 2, 2, 2, 2, 2, 2, 2, 1, 0, 2, 1, 2, 2, 2, 1, 1, 1, 2, 1, 1, 1, 2, 2, 1, 2, 1, 2, 2, 2, 2, 2, 2, 2, 2, 3, 2, 2, 1, 2, 2, 3, 2]\n",
      "[22, 21, 21, 22, 20, 19, 23, 20, 21, 22, 20, 20, 24, 22, 21, 22, 22, 22, 21, 22, 21, 22, 22, 22, 20, 20, 22, 21, 21, 23, 20, 21, 23, 23, 24, 21, 20, 21, 23, 20, 21, 21, 22, 22, 23, 20, 21, 25, 21, 21, 25, 21, 21, 20, 23, 20, 24, 24, 22, 22, 23, 20, 21, 22, 22, 24, 23, 21, 21, 20, 20, 21, 20, 20, 24, 20, 19, 20, 19, 23, 23, 22, 20, 22, 22, 21, 20, 21, 20, 21, 22, 22, 22, 21, 21, 21, 23, 20, 22, 20]\n"
     ]
    }
   ],
   "source": [
    "min_deg, max_deg = sim_gnp(1000,0.01, 100)\n",
    "print(min_deg)\n",
    "print(max_deg)"
   ]
  },
  {
   "cell_type": "code",
   "execution_count": null,
   "id": "quantitative-clearance",
   "metadata": {},
   "outputs": [],
   "source": []
  }
 ],
 "metadata": {
  "kernelspec": {
   "display_name": "Python 3",
   "language": "python",
   "name": "python3"
  },
  "language_info": {
   "codemirror_mode": {
    "name": "ipython",
    "version": 3
   },
   "file_extension": ".py",
   "mimetype": "text/x-python",
   "name": "python",
   "nbconvert_exporter": "python",
   "pygments_lexer": "ipython3",
   "version": "3.9.5"
  }
 },
 "nbformat": 4,
 "nbformat_minor": 5
}
