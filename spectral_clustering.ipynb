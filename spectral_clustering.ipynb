{
 "cells": [
  {
   "cell_type": "markdown",
   "id": "collected-syntax",
   "metadata": {},
   "source": [
    "# Spectral clustering algorithm for community detection in networks "
   ]
  },
  {
   "cell_type": "code",
   "execution_count": 1,
   "id": "pretty-bolivia",
   "metadata": {},
   "outputs": [],
   "source": [
    "import numpy as np\n",
    "import scipy.linalg as la\n",
    "import scipy as sp\n",
    "import math\n",
    "from random import *\n",
    "from pyvis.network import Network as netviz\n",
    "import networkx as net"
   ]
  },
  {
   "cell_type": "markdown",
   "id": "quantitative-baker",
   "metadata": {},
   "source": [
    "## Generate a G(n,p,q)-random graph (stochastic block model)\n",
    "The function `stochastic_block_model(sizes, p, nodelist=None, seed=None, directed=False, selfloops=False, sparse=True)` generates a stochastic block model"
   ]
  },
  {
   "cell_type": "code",
   "execution_count": 2,
   "id": "buried-ocean",
   "metadata": {},
   "outputs": [
    {
     "name": "stdout",
     "output_type": "stream",
     "text": [
      "200\n",
      "990\n"
     ]
    }
   ],
   "source": [
    "N = 100\n",
    "p,q = 0.1, 0.005\n",
    "G = net.stochastic_block_model([N,N], [[p,q],[q,p]])\n",
    "print(len(G.nodes))\n",
    "print(len(G.edges))"
   ]
  },
  {
   "cell_type": "code",
   "execution_count": 16,
   "id": "growing-rebel",
   "metadata": {},
   "outputs": [
    {
     "name": "stdout",
     "output_type": "stream",
     "text": [
      "[ 0.5  0.5 -0.5 -0.5]\n"
     ]
    }
   ],
   "source": [
    "def spectral_clustering(G):\n",
    "    A = net.adjacency_matrix(G).todense()\n",
    "    eigenvals, eigenvecs = la.eig(A)\n",
    "    # eigenvecs is matrix with eigenvectors as columns.\n",
    "    # to get the eigenvector corresponding to the second\n",
    "    # largest eigenvalue, take the second row of the\n",
    "    # transposed matrix (eigenvecs.T). Indexing starts at 0:\n",
    "    e = eigenvecs.T[1]  \n",
    "    x = []\n",
    "    for i in range(len(e)):\n",
    "        if e[i] > 0:\n",
    "            x.append(1)\n",
    "        else:\n",
    "            x.append(-1)\n",
    "    return(x)\n",
    "\n",
    "A = net.adjacency_matrix(G).todense()\n",
    "eigenvals, eigenvecs = la.eig(A)\n",
    "e = eigenvecs[1]\n",
    "\n",
    "\n",
    "### Debugging\n",
    "#print(eigenvals)\n",
    "#print(e)\n",
    "\n",
    "#print(np.matmul(A,e) - eigenvals[1]*e)\n",
    "\n",
    "#B = [[p,p,q,q],[p,p,q,q],[q,q,p,p],[q,q,p,p]]\n",
    "\n",
    "#eigenvB, eigenvecB = la.eig(B)\n",
    "#print(eigenvecB.T[1])\n",
    "\n",
    "\n",
    "#print(spectral_clustering(G))\n",
    "    \n"
   ]
  },
  {
   "cell_type": "code",
   "execution_count": 17,
   "id": "reported-spanking",
   "metadata": {},
   "outputs": [
    {
     "data": {
      "text/html": [
       "\n",
       "        <iframe\n",
       "            width=\"800\"\n",
       "            height=\"800\"\n",
       "            src=\"net.html\"\n",
       "            frameborder=\"0\"\n",
       "            allowfullscreen\n",
       "        ></iframe>\n",
       "        "
      ],
      "text/plain": [
       "<IPython.lib.display.IFrame at 0x7fb84f0a0400>"
      ]
     },
     "execution_count": 17,
     "metadata": {},
     "output_type": "execute_result"
    }
   ],
   "source": [
    "def draw_part_graph(G,x):\n",
    "    n = len(G.nodes)\n",
    "    if len(x) != n:\n",
    "        print(\"ERROR length of x does not match dimension of G\")\n",
    "        return\n",
    "    for v in G.nodes():\n",
    "        if x[v] == 1:\n",
    "            G.nodes[v][\"color\"] = \"red\"\n",
    "            G.nodes[v][\"size\"] = 5\n",
    "        else:\n",
    "            G.nodes[v][\"color\"] = \"blue\"\n",
    "            G.nodes[v][\"size\"] = 5\n",
    "    edges = [e for e in G.edges]\n",
    "    for e in edges:\n",
    "        G.edges[e][\"color\"] = \"black\"\n",
    "    viz = netviz(height=800, width=800, notebook=True)\n",
    "    #viz.barnes_hut()\n",
    "    #viz.repulsion()\n",
    "    #viz.hrepulsion()\n",
    "    viz.force_atlas_2based()\n",
    "    viz.from_nx(G)\n",
    "    viz.show(\"net.html\")    \n",
    "    return(viz)\n",
    "\n",
    "x = spectral_clustering(G)\n",
    "\n",
    "viz = draw_part_graph(G,x)\n",
    "viz.show(\"net.html\")\n"
   ]
  },
  {
   "cell_type": "code",
   "execution_count": null,
   "id": "forty-sequence",
   "metadata": {},
   "outputs": [],
   "source": []
  },
  {
   "cell_type": "code",
   "execution_count": null,
   "id": "choice-invite",
   "metadata": {},
   "outputs": [],
   "source": []
  },
  {
   "cell_type": "code",
   "execution_count": null,
   "id": "loved-positive",
   "metadata": {},
   "outputs": [],
   "source": [
    " "
   ]
  }
 ],
 "metadata": {
  "kernelspec": {
   "display_name": "Python 3",
   "language": "python",
   "name": "python3"
  },
  "language_info": {
   "codemirror_mode": {
    "name": "ipython",
    "version": 3
   },
   "file_extension": ".py",
   "mimetype": "text/x-python",
   "name": "python",
   "nbconvert_exporter": "python",
   "pygments_lexer": "ipython3",
   "version": "3.7.3"
  }
 },
 "nbformat": 4,
 "nbformat_minor": 5
}
