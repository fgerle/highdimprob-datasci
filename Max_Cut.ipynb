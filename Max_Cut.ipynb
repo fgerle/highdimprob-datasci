{
 "cells": [
  {
   "cell_type": "markdown",
   "id": "positive-possibility",
   "metadata": {},
   "source": [
    "# MAX-CUT for graphs"
   ]
  },
  {
   "cell_type": "code",
   "execution_count": 12,
   "id": "declared-curve",
   "metadata": {},
   "outputs": [],
   "source": [
    "import numpy as np\n",
    "import scipy as sp\n",
    "import math\n",
    "import pulp\n",
    "from random import *\n",
    "from pyvis.network import Network as netviz\n",
    "import networkx as net"
   ]
  },
  {
   "cell_type": "markdown",
   "id": "adjustable-incidence",
   "metadata": {},
   "source": [
    "### Generate a G(n,p)-random graph"
   ]
  },
  {
   "cell_type": "code",
   "execution_count": 58,
   "id": "sharing-improvement",
   "metadata": {},
   "outputs": [
    {
     "name": "stdout",
     "output_type": "stream",
     "text": [
      "100\n",
      "258\n"
     ]
    }
   ],
   "source": [
    "N,p = 100, 0.05\n",
    "G = net.gnp_random_graph(N,p)\n",
    "print(len(G.nodes))\n",
    "print(len(G.edges))"
   ]
  },
  {
   "cell_type": "markdown",
   "id": "broken-dining",
   "metadata": {},
   "source": [
    "## Create the adjacency matrix of G\n",
    "The function `adjacency_matrix()` returns a sparse matrix (i.e. only the coordinates of non-null entries). We turn it into a dense matrix before we can use it with the function `todense()`."
   ]
  },
  {
   "cell_type": "code",
   "execution_count": 49,
   "id": "dedicated-garlic",
   "metadata": {},
   "outputs": [],
   "source": [
    "A = net.adjacency_matrix(G).todense()"
   ]
  },
  {
   "cell_type": "markdown",
   "id": "offshore-color",
   "metadata": {},
   "source": [
    "## Define a function to calculate the cut number for given `x`"
   ]
  },
  {
   "cell_type": "code",
   "execution_count": 50,
   "id": "about-twenty",
   "metadata": {},
   "outputs": [],
   "source": [
    "def CUT(G,x):\n",
    "    A = net.adjacency_matrix(G).todense()\n",
    "    n = len(G.nodes)\n",
    "    cut = 0\n",
    "    if len(x) != n:\n",
    "        print(\"ERROR length of x does not match dimension of G\")\n",
    "        return(cut)\n",
    "    else:\n",
    "        for i in range(1,n):\n",
    "            for j in range(1,n):\n",
    "                cut += 1/4*A.A[i][j]*(1-x[i]*x[j])\n",
    "        return(cut)  "
   ]
  },
  {
   "cell_type": "markdown",
   "id": "lasting-conclusion",
   "metadata": {},
   "source": [
    "## Generate $X \\sim \\mathcal{U} (\\{-1,1\\})$ and calculate CUT(G,X)"
   ]
  },
  {
   "cell_type": "code",
   "execution_count": 59,
   "id": "irish-mitchell",
   "metadata": {},
   "outputs": [
    {
     "data": {
      "text/plain": [
       "115.0"
      ]
     },
     "execution_count": 59,
     "metadata": {},
     "output_type": "execute_result"
    }
   ],
   "source": [
    "def rand_part(G):\n",
    "    \"return a random partition of V(G) represented by a vector with independent symmetric Bernoulli entries\"\n",
    "    X = []\n",
    "    for i in range(N):\n",
    "        X.append(1-2*round(random()))\n",
    "    return(X)\n",
    "X = rand_part(G)\n",
    "CUT(G,X)"
   ]
  },
  {
   "cell_type": "markdown",
   "id": "lesbian-oliver",
   "metadata": {},
   "source": [
    "## Define a (brute-force) function to calculate MAXCUT\n",
    "*WARNING* the runtime is $O(2^n)$ and _will_ take long for Graph sizes above $N=15$"
   ]
  },
  {
   "cell_type": "code",
   "execution_count": 52,
   "id": "operational-confidentiality",
   "metadata": {},
   "outputs": [],
   "source": [
    "def iterate(x):\n",
    "    x[0] = x[0]*(-1)\n",
    "    for i in range(len(x)):\n",
    "        if (x[i] == 1 ):\n",
    "            try:\n",
    "                x[i+1] = x[i+1]*(-1)\n",
    "            except IndexError:\n",
    "                break\n",
    "        else:\n",
    "            break\n",
    "    return(x)\n",
    "    \n",
    "    \n",
    "def MAXCUT(G):\n",
    "    n = len(G.nodes)\n",
    "    x = [1 for i in range(n)]\n",
    "    x0 = x\n",
    "    cut = 0\n",
    "    h = 0\n",
    "    for i in range (2**n):\n",
    "        h = CUT(G,x)\n",
    "        if h > cut:\n",
    "            cut = h\n",
    "            x0 = x\n",
    "            print(f'found a better CUT. NEW CUT# = {cut}')\n",
    "        x = iterate(x)\n",
    "    return(cut,x0)\n",
    "        \n",
    "    \n",
    "    "
   ]
  },
  {
   "cell_type": "markdown",
   "id": "incomplete-level",
   "metadata": {},
   "source": [
    "## A $(0.5-\\varepsilon)$-approximation algorithm for MAXCUT\n",
    "Let $\\varepsilon>0$ we start with a random partition of $V$, represented by a vector $X$ with independent symmetric Bernoulli entries. Then flip the entries of $X$ one by one and check if the cut number of the new cutset `CUT(G,X)` has improved. If so, update $X$ and continue until `CUT(G,X)` $\\geq (0.5-\\varepsilon)|E|$. As long as there are vertices where less than half of the incident edges are cut, the cut number is improved by flipping such a vertex. Hence, the algorithm improves can find a vertex to flip as long as `CUT(G,X)` $< 0.5 |E|$. Furthermore, the cut number increases by at least 1 with every flip, so the the number of flips is upper bounded by $|E|$.\n",
    "\n",
    "**Exercise** Implement this algorithm!"
   ]
  },
  {
   "cell_type": "code",
   "execution_count": 53,
   "id": "assigned-coordinator",
   "metadata": {},
   "outputs": [],
   "source": [
    "def maxcut_approx(G):\n",
    "    ...\n",
    "    return(X)\n"
   ]
  },
  {
   "cell_type": "markdown",
   "id": "finished-forward",
   "metadata": {},
   "source": [
    "## Draw the partitioned Graph"
   ]
  },
  {
   "cell_type": "code",
   "execution_count": 65,
   "id": "australian-inside",
   "metadata": {},
   "outputs": [
    {
     "data": {
      "text/html": [
       "\n",
       "        <iframe\n",
       "            width=\"800\"\n",
       "            height=\"800\"\n",
       "            src=\"net.html\"\n",
       "            frameborder=\"0\"\n",
       "            allowfullscreen\n",
       "        ></iframe>\n",
       "        "
      ],
      "text/plain": [
       "<IPython.lib.display.IFrame at 0x7f3f18ea7640>"
      ]
     },
     "execution_count": 65,
     "metadata": {},
     "output_type": "execute_result"
    }
   ],
   "source": [
    "def draw_part_graph(G,x):\n",
    "    n = len(G.nodes)\n",
    "    if len(x) != n:\n",
    "        print(\"ERROR length of x does not match dimension of G\")\n",
    "        return\n",
    "    for v in G.nodes():\n",
    "        if x[v] == 1:\n",
    "            G.nodes[v][\"color\"] = \"red\"\n",
    "        else:\n",
    "            G.nodes[v][\"color\"] = \"blue\"\n",
    "    edges = [e for e in G.edges]\n",
    "    for e in edges:\n",
    "        if x[e[0]]*x[e[1]] == -1:\n",
    "            G.edges[e][\"color\"] = \"red\"\n",
    "        else:\n",
    "            G.edges[e][\"color\"] = \"black\"\n",
    "    viz = netviz(height=800, width=800, notebook=True)\n",
    "    #viz.barnes_hut()\n",
    "    #viz.repulsion()\n",
    "    #viz.hrepulsion()\n",
    "    viz.force_atlas_2based()\n",
    "    viz.from_nx(G)\n",
    "    viz.show(\"net.html\")    \n",
    "    return(viz)\n",
    "\n",
    "viz = draw_part_graph(G,X)\n",
    "viz.show(\"net.html\")\n"
   ]
  },
  {
   "cell_type": "markdown",
   "id": "accredited-exploration",
   "metadata": {},
   "source": [
    "## Calculate the MAXCUT-norm of G"
   ]
  },
  {
   "cell_type": "code",
   "execution_count": 111,
   "id": "nonprofit-parker",
   "metadata": {},
   "outputs": [
    {
     "name": "stdout",
     "output_type": "stream",
     "text": [
      "found a better CUT. NEW CUT# = 4.0\n",
      "found a better CUT. NEW CUT# = 6.0\n",
      "found a better CUT. NEW CUT# = 7.0\n",
      "found a better CUT. NEW CUT# = 8.0\n",
      "found a better CUT. NEW CUT# = 9.0\n",
      "found a better CUT. NEW CUT# = 10.0\n",
      "found a better CUT. NEW CUT# = 11.0\n",
      "found a better CUT. NEW CUT# = 12.0\n",
      "found a better CUT. NEW CUT# = 13.0\n",
      "found a better CUT. NEW CUT# = 14.0\n",
      "found a better CUT. NEW CUT# = 15.0\n",
      "found a better CUT. NEW CUT# = 16.0\n",
      "16.0\n"
     ]
    }
   ],
   "source": [
    "cut, x0 = MAXCUT(G)\n",
    "print(cut)"
   ]
  }
 ],
 "metadata": {
  "kernelspec": {
   "display_name": "Python 3",
   "language": "python",
   "name": "python3"
  },
  "language_info": {
   "codemirror_mode": {
    "name": "ipython",
    "version": 3
   },
   "file_extension": ".py",
   "mimetype": "text/x-python",
   "name": "python",
   "nbconvert_exporter": "python",
   "pygments_lexer": "ipython3",
   "version": "3.9.5"
  }
 },
 "nbformat": 4,
 "nbformat_minor": 5
}
