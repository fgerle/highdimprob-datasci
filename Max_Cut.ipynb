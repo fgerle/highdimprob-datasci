{
 "cells": [
  {
   "cell_type": "markdown",
   "id": "random-headline",
   "metadata": {},
   "source": [
    "# MAX-CUT for graphs"
   ]
  },
  {
   "cell_type": "code",
   "execution_count": 1,
   "id": "traditional-alexandria",
   "metadata": {},
   "outputs": [],
   "source": [
    "import numpy as np\n",
    "import scipy as sp\n",
    "import math\n",
    "import pulp\n",
    "from random import *\n",
    "import networkx as net"
   ]
  },
  {
   "cell_type": "markdown",
   "id": "fleet-lightweight",
   "metadata": {},
   "source": [
    "### Generate a G(n,p)-random graph"
   ]
  },
  {
   "cell_type": "code",
   "execution_count": 110,
   "id": "severe-execution",
   "metadata": {},
   "outputs": [
    {
     "name": "stdout",
     "output_type": "stream",
     "text": [
      "15\n",
      "21\n"
     ]
    }
   ],
   "source": [
    "N,p = 15, 0.2\n",
    "G = net.gnp_random_graph(N,p)\n",
    "print(len(G.nodes))\n",
    "print(len(G.edges))"
   ]
  },
  {
   "cell_type": "markdown",
   "id": "integrated-being",
   "metadata": {},
   "source": [
    "## Create the adjacency matrix of G\n",
    "The function `adjacency_matrix()` returns a sparse matrix (i.e. only the coordinates of non-null entries). We turn it into a dense matrix before we can use it with the function `todense()`."
   ]
  },
  {
   "cell_type": "code",
   "execution_count": 98,
   "id": "dying-ranch",
   "metadata": {},
   "outputs": [],
   "source": [
    "A = net.adjacency_matrix(G).todense()"
   ]
  },
  {
   "cell_type": "markdown",
   "id": "honest-reverse",
   "metadata": {},
   "source": [
    "## Define a function to calculate the cut number for given `x`"
   ]
  },
  {
   "cell_type": "code",
   "execution_count": 100,
   "id": "whole-angola",
   "metadata": {},
   "outputs": [],
   "source": [
    "def CUT(G,x):\n",
    "    A = net.adjacency_matrix(G).todense()\n",
    "    n = len(G.nodes)\n",
    "    cut = 0\n",
    "    if len(x) != n:\n",
    "        print(\"ERROR length of x does not match dimension of G\")\n",
    "        return(cut)\n",
    "    else:\n",
    "        for i in range(1,n):\n",
    "            for j in range(1,n):\n",
    "                cut += 1/4*A.A[i][j]*(1-x[i]*x[j])\n",
    "        return(cut)  "
   ]
  },
  {
   "cell_type": "markdown",
   "id": "senior-fleece",
   "metadata": {},
   "source": [
    "## Generate $X \\sim \\mathcal U (\\{-1,1\\})$ and calculate CUT(G,X)"
   ]
  },
  {
   "cell_type": "code",
   "execution_count": 123,
   "id": "patient-feeding",
   "metadata": {},
   "outputs": [
    {
     "data": {
      "text/plain": [
       "11.0"
      ]
     },
     "execution_count": 123,
     "metadata": {},
     "output_type": "execute_result"
    }
   ],
   "source": [
    "X = []\n",
    "for i in range(N):\n",
    "    X.append(1-2*round(random()))\n",
    "CUT(G,X)"
   ]
  },
  {
   "cell_type": "markdown",
   "id": "italian-amazon",
   "metadata": {},
   "source": [
    "## Define a (brute-force) function to calculate MAXCUT\n",
    "*WARNING* the runtime is $O(2^n)$ and _will_ take long for Graph sizes above $N=15$"
   ]
  },
  {
   "cell_type": "code",
   "execution_count": 104,
   "id": "worst-marking",
   "metadata": {},
   "outputs": [],
   "source": [
    "def iterate(x):\n",
    "    x[0] = x[0]*(-1)\n",
    "    for i in range(len(x)):\n",
    "        if (x[i] == 1 ):\n",
    "            try:\n",
    "                x[i+1] = x[i+1]*(-1)\n",
    "            except IndexError:\n",
    "                break\n",
    "        else:\n",
    "            break\n",
    "    return(x)\n",
    "    \n",
    "    \n",
    "def MAXCUT(G):\n",
    "    n = len(G.nodes)\n",
    "    x = [1 for i in range(n)]\n",
    "    x0 = x\n",
    "    cut = 0\n",
    "    h = 0\n",
    "    for i in range (2**n):\n",
    "        h = CUT(G,x)\n",
    "        if h > cut:\n",
    "            cut = h\n",
    "            x0 = x\n",
    "            print(f'found a better CUT. NEW CUT# = {cut}')\n",
    "        x = iterate(x)\n",
    "    return(cut,x0)\n",
    "        \n",
    "    \n",
    "    "
   ]
  },
  {
   "cell_type": "markdown",
   "id": "rough-blend",
   "metadata": {},
   "source": [
    "## Calculate the MAXCUT-norm of G"
   ]
  },
  {
   "cell_type": "code",
   "execution_count": 111,
   "id": "built-spiritual",
   "metadata": {},
   "outputs": [
    {
     "name": "stdout",
     "output_type": "stream",
     "text": [
      "found a better CUT. NEW CUT# = 4.0\n",
      "found a better CUT. NEW CUT# = 6.0\n",
      "found a better CUT. NEW CUT# = 7.0\n",
      "found a better CUT. NEW CUT# = 8.0\n",
      "found a better CUT. NEW CUT# = 9.0\n",
      "found a better CUT. NEW CUT# = 10.0\n",
      "found a better CUT. NEW CUT# = 11.0\n",
      "found a better CUT. NEW CUT# = 12.0\n",
      "found a better CUT. NEW CUT# = 13.0\n",
      "found a better CUT. NEW CUT# = 14.0\n",
      "found a better CUT. NEW CUT# = 15.0\n",
      "found a better CUT. NEW CUT# = 16.0\n",
      "16.0\n"
     ]
    }
   ],
   "source": [
    "cut, x0 = MAXCUT(G)\n",
    "print(cut)"
   ]
  }
 ],
 "metadata": {
  "kernelspec": {
   "display_name": "Python 3",
   "language": "python",
   "name": "python3"
  },
  "language_info": {
   "codemirror_mode": {
    "name": "ipython",
    "version": 3
   },
   "file_extension": ".py",
   "mimetype": "text/x-python",
   "name": "python",
   "nbconvert_exporter": "python",
   "pygments_lexer": "ipython3",
   "version": "3.9.4"
  }
 },
 "nbformat": 4,
 "nbformat_minor": 5
}
